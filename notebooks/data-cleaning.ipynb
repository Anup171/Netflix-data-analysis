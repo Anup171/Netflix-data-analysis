{
 "cells": [
  {
   "cell_type": "markdown",
   "id": "37262d36",
   "metadata": {},
   "source": [
    "# 2. Data Cleaning"
   ]
  },
  {
   "cell_type": "code",
   "execution_count": 1,
   "id": "fe231737",
   "metadata": {},
   "outputs": [],
   "source": [
    "import pandas as pd\n",
    "df = pd.read_csv('../data/raw/netflix_titles.csv')"
   ]
  },
  {
   "cell_type": "code",
   "execution_count": 2,
   "id": "705242cc",
   "metadata": {},
   "outputs": [
    {
     "name": "stdout",
     "output_type": "stream",
     "text": [
      "Missing values per column:\n",
      "show_id            0\n",
      "type               0\n",
      "title              0\n",
      "director        2634\n",
      "cast             825\n",
      "country          831\n",
      "date_added        10\n",
      "release_year       0\n",
      "rating             4\n",
      "duration           3\n",
      "listed_in          0\n",
      "description        0\n",
      "dtype: int64\n"
     ]
    }
   ],
   "source": [
    "#Missing vales in each column\n",
    "print(\"Missing values per column:\")\n",
    "print(df.isnull().sum())"
   ]
  },
  {
   "cell_type": "code",
   "execution_count": 3,
   "id": "7fe67438",
   "metadata": {},
   "outputs": [],
   "source": [
    "#Dropping rows with missing 'rating','date_added' or 'duration'\n",
    "dfc = df.copy()\n",
    "dfc = dfc.dropna(subset=['date_added', 'rating', 'duration'])"
   ]
  },
  {
   "cell_type": "code",
   "execution_count": 4,
   "id": "ef056424",
   "metadata": {},
   "outputs": [],
   "source": [
    "#Filling missing values in 'director', 'cast', and 'country' with 'Unknown'\n",
    "dfc[['director', 'cast', 'country']] = dfc[['director', 'cast', 'country']].fillna('Unknown')\n"
   ]
  },
  {
   "cell_type": "code",
   "execution_count": 5,
   "id": "44083a8a",
   "metadata": {},
   "outputs": [],
   "source": [
    "#Converting data types\n",
    "dfc['date_added'] = pd.to_datetime(dfc['date_added'], errors='coerce')\n",
    "dfc['release_year'] = dfc['release_year'].astype(int)\n",
    "\n"
   ]
  },
  {
   "cell_type": "code",
   "execution_count": 6,
   "id": "8108d8d8",
   "metadata": {},
   "outputs": [],
   "source": [
    "# Extract month and year from date_added\n",
    "dfc['added_year'] = dfc['date_added'].dt.year\n",
    "dfc['added_month'] = dfc['date_added'].dt.month"
   ]
  },
  {
   "cell_type": "code",
   "execution_count": 7,
   "id": "dc2c95cf",
   "metadata": {},
   "outputs": [],
   "source": [
    "dfc.to_csv('../data/cleaned/netflix_cleaned.csv', index=False)"
   ]
  }
 ],
 "metadata": {
  "kernelspec": {
   "display_name": ".venv",
   "language": "python",
   "name": ".venv"
  },
  "language_info": {
   "codemirror_mode": {
    "name": "ipython",
    "version": 3
   },
   "file_extension": ".py",
   "mimetype": "text/x-python",
   "name": "python",
   "nbconvert_exporter": "python",
   "pygments_lexer": "ipython3",
   "version": "3.12.4"
  }
 },
 "nbformat": 4,
 "nbformat_minor": 5
}
