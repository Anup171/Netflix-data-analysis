{
 "cells": [
  {
   "cell_type": "markdown",
   "id": "e5286552",
   "metadata": {},
   "source": [
    "# 3. Data Analysis and Manipulation"
   ]
  },
  {
   "cell_type": "code",
   "execution_count": 1,
   "id": "b501bc9c",
   "metadata": {},
   "outputs": [],
   "source": [
    "import pandas as pd\n",
    "dfc=pd.read_csv('../data/cleaned/netflix_cleaned.csv')"
   ]
  },
  {
   "cell_type": "code",
   "execution_count": 2,
   "id": "ae6089c8",
   "metadata": {},
   "outputs": [
    {
     "name": "stdout",
     "output_type": "stream",
     "text": [
      "type\n",
      "Movie      6126\n",
      "TV Show    2664\n",
      "Name: count, dtype: int64\n"
     ]
    }
   ],
   "source": [
    "# Count how many movies and shows are in the dataset\n",
    "print(dfc['type'].value_counts())"
   ]
  },
  {
   "cell_type": "code",
   "execution_count": 3,
   "id": "fddcda22",
   "metadata": {},
   "outputs": [
    {
     "name": "stdout",
     "output_type": "stream",
     "text": [
      "added_year\n",
      "2008.0       2\n",
      "2009.0       2\n",
      "2010.0       1\n",
      "2011.0      13\n",
      "2012.0       3\n",
      "2013.0      10\n",
      "2014.0      23\n",
      "2015.0      73\n",
      "2016.0     415\n",
      "2017.0    1161\n",
      "2018.0    1624\n",
      "2019.0    1999\n",
      "2020.0    1878\n",
      "2021.0    1498\n",
      "Name: count, dtype: int64\n"
     ]
    }
   ],
   "source": [
    "# Count of content added added each year\n",
    "yearly_content = dfc['added_year'].value_counts().sort_index()\n",
    "print(yearly_content)"
   ]
  },
  {
   "cell_type": "code",
   "execution_count": 4,
   "id": "65201c4f",
   "metadata": {},
   "outputs": [
    {
     "name": "stdout",
     "output_type": "stream",
     "text": [
      "                                                 title  release_year\n",
      "4250                 Pioneers: First Women Filmmakers*          1925\n",
      "7775                                    Prelude to War          1942\n",
      "8188                              The Battle of Midway          1942\n",
      "8722                Why We Fight: The Battle of Russia          1943\n",
      "8746                   WWII: Report from the Aleutians          1943\n",
      "8643     Undercover: How to Operate Behind Enemy Lines          1943\n",
      "8419                                 The Negro Soldier          1944\n",
      "8402  The Memphis Belle: A Story of a\\nFlying Fortress          1944\n",
      "8623                                  Tunisian Victory          1944\n",
      "1331               Five Came Back: The Reference Films          1945\n",
      "7914                                        San Pietro          1945\n",
      "7560                          Nazi Concentration Camps          1945\n",
      "7208                           Know Your Enemy - Japan          1945\n",
      "7282                                Let There Be Light          1946\n",
      "7728               Pioneers of African-American Cinema          1946\n"
     ]
    }
   ],
   "source": [
    "#Sort the dataset by relase year\n",
    "dfc_sorted = dfc.sort_values(['release_year',], ascending=True)\n",
    "print(dfc_sorted[['title', 'release_year']].head(15))"
   ]
  },
  {
   "cell_type": "code",
   "execution_count": 5,
   "id": "b811f01b",
   "metadata": {},
   "outputs": [
    {
     "name": "stdout",
     "output_type": "stream",
     "text": [
      "                                                  title  release_year\n",
      "0                                  Dick Johnson Is Dead          2020\n",
      "38                                  Birth of the Dragon          2017\n",
      "90                                       Paradise Hills          2019\n",
      "94                                            Show Dogs          2018\n",
      "96    If I Leave Here Tomorrow: A Film About Lynyrd ...          2018\n",
      "...                                                 ...           ...\n",
      "8748                                                 XX          2017\n",
      "8757                                          يوم الدين          2018\n",
      "8764                            Yo-Kai Watch: The Movie          2016\n",
      "8765                                        Yoga Hosers          2016\n",
      "8770                          You Can’t Fight Christmas          2017\n",
      "\n",
      "[1594 rows x 2 columns]\n"
     ]
    }
   ],
   "source": [
    "#Movies in United States from 2015 to 2020\n",
    "dfc_us_movies = dfc[(dfc['country'].str.contains('United States', na=False)) & (dfc['type'] == 'Movie') & (dfc['release_year'] >= 2015) & (dfc['release_year'] <= 2020)]\n",
    "print(dfc_us_movies[['title', 'release_year']])"
   ]
  },
  {
   "cell_type": "code",
   "execution_count": 6,
   "id": "cc31771f",
   "metadata": {},
   "outputs": [
    {
     "name": "stdout",
     "output_type": "stream",
     "text": [
      "listed_in\n",
      "Classic Movies, Music & Musicals                            173.000000\n",
      "Action & Adventure, Cult Movies, Dramas                     172.000000\n",
      "Action & Adventure, Classic Movies, International Movies    166.000000\n",
      "Cult Movies, Dramas, Thrillers                              158.000000\n",
      "Classic Movies, Dramas, Romantic Movies                     153.666667\n",
      "                                                               ...    \n",
      "Children & Family Movies, Comedies, LGBTQ Movies             46.000000\n",
      "Movies                                                       45.641509\n",
      "Action & Adventure, Documentaries, Sports Movies             40.000000\n",
      "Anime Features, Documentaries                                36.000000\n",
      "Comedies, Music & Musicals, Sports Movies                    30.000000\n",
      "Name: duration_minutes, Length: 278, dtype: float64\n"
     ]
    }
   ],
   "source": [
    "# Calculate average duration by listed_in\n",
    "dfc['duration_minutes'] = dfc['duration'].str.extract(r'(\\d+)').astype(float)\n",
    "movies = dfc[dfc['type'] == 'Movie']\n",
    "avg_duration_by_genre = movies.groupby('listed_in')['duration_minutes'].mean().sort_values(ascending=False)\n",
    "print(avg_duration_by_genre)"
   ]
  },
  {
   "cell_type": "code",
   "execution_count": 7,
   "id": "da55b599",
   "metadata": {},
   "outputs": [
    {
     "name": "stdout",
     "output_type": "stream",
     "text": [
      "type              Movie   TV Show\n",
      "release_year                     \n",
      "2017          95.611765  1.788679\n",
      "2018          96.185137  1.675462\n",
      "2019          93.466035  1.869018\n",
      "2020          92.141199  1.711009\n",
      "2021          96.444043  1.717460\n"
     ]
    }
   ],
   "source": [
    "# Pivot table for average duration by release year and type\n",
    "pivot = dfc.pivot_table(values='duration_minutes', index='release_year', columns='type', aggfunc='mean')\n",
    "print(pivot.tail())"
   ]
  },
  {
   "cell_type": "code",
   "execution_count": 8,
   "id": "d66191f0",
   "metadata": {},
   "outputs": [
    {
     "name": "stdout",
     "output_type": "stream",
     "text": [
      "listed_in\n",
      "International Movies        2752\n",
      "Dramas                      2426\n",
      "Comedies                    1674\n",
      "International TV Shows      1349\n",
      "Documentaries                869\n",
      "Action & Adventure           859\n",
      "TV Dramas                    762\n",
      "Independent Movies           756\n",
      "Children & Family Movies     641\n",
      "Romantic Movies              616\n",
      "Name: count, dtype: int64\n"
     ]
    }
   ],
   "source": [
    "# Count the top 10 genres\n",
    "genres = dfc['listed_in'].str.split(', ').explode()\n",
    "print(genres.value_counts().head(10))"
   ]
  },
  {
   "cell_type": "code",
   "execution_count": 9,
   "id": "14fabd32",
   "metadata": {},
   "outputs": [],
   "source": [
    "# Categorize movies by release year\n",
    "dfm = dfc.copy()\n",
    "def catagorize_movies(row):\n",
    "    if row['release_year'] >= 1925 and row['release_year'] < 1950:\n",
    "        return 'Classic Era'\n",
    "    elif row['release_year'] >= 1950 and row['release_year'] < 1974:\n",
    "        return 'Golden Era'\n",
    "    elif row['release_year'] >= 1974 and row['release_year'] < 2000:\n",
    "        return 'BlockBuster Era'\n",
    "    elif row['release_year'] >= 2000:\n",
    "        return 'Modern Era'\n",
    "dfm['time_line'] = dfm.apply(catagorize_movies, axis=1)"
   ]
  },
  {
   "cell_type": "code",
   "execution_count": 10,
   "id": "0d4f2fba",
   "metadata": {},
   "outputs": [],
   "source": [
    "# Extract first and last names from director\n",
    "dfm['first_name'] = dfm['director'].str.split(' ').str[0]\n",
    "dfm['last_name'] = dfm['director'].str.split(' ').str[-1]"
   ]
  },
  {
   "cell_type": "code",
   "execution_count": 11,
   "id": "0e6d8ef8",
   "metadata": {},
   "outputs": [],
   "source": [
    "dfm.to_csv('../data/processed/netflix_processed.csv', index=False)"
   ]
  }
 ],
 "metadata": {
  "kernelspec": {
   "display_name": ".venv",
   "language": "python",
   "name": ".venv"
  },
  "language_info": {
   "codemirror_mode": {
    "name": "ipython",
    "version": 3
   },
   "file_extension": ".py",
   "mimetype": "text/x-python",
   "name": "python",
   "nbconvert_exporter": "python",
   "pygments_lexer": "ipython3",
   "version": "3.12.4"
  }
 },
 "nbformat": 4,
 "nbformat_minor": 5
}
